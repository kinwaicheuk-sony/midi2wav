{
 "cells": [
  {
   "cell_type": "code",
   "execution_count": null,
   "metadata": {},
   "outputs": [],
   "source": [
    "import glob\n",
    "import os\n",
    "import soundfile as sf"
   ]
  },
  {
   "cell_type": "code",
   "execution_count": null,
   "metadata": {},
   "outputs": [],
   "source": [
    "for folder in glob.glob('./audio_output/*'):\n",
    "    file_counter = 0\n",
    "    if os.path.isdir(folder):\n",
    "        for file in glob.glob(os.path.join(folder, '*', '*')):\n",
    "            file_counter += 1\n",
    "            # check if the audio file is corrupted\n",
    "            try:\n",
    "                wav, sr = sf.read(file)\n",
    "                assert sr == 16000, f\"wrong sample rate for file {file}\"\n",
    "                assert wav.max() <= 1.0, f\"file {file} has values greater than 1.0\"\n",
    "                assert wav.min() >= -1.0, f\"file {file} has values less than -1.0\"\n",
    "            except Exception as e:\n",
    "                print(e)\n",
    "                print(f'Corrupted file: {file}')\n",
    "                # os.remove(file)\n",
    "                # file_counter -= 1\n",
    "        print(f'{folder}: {file_counter} files')    \n",
    "        "
   ]
  },
  {
   "cell_type": "code",
   "execution_count": null,
   "metadata": {},
   "outputs": [],
   "source": []
  }
 ],
 "metadata": {
  "kernelspec": {
   "display_name": "ddsp",
   "language": "python",
   "name": "python3"
  },
  "language_info": {
   "codemirror_mode": {
    "name": "ipython",
    "version": 3
   },
   "file_extension": ".py",
   "mimetype": "text/x-python",
   "name": "python",
   "nbconvert_exporter": "python",
   "pygments_lexer": "ipython3",
   "version": "3.8.19"
  }
 },
 "nbformat": 4,
 "nbformat_minor": 2
}
