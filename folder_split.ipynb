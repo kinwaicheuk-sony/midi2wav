{
 "cells": [
  {
   "cell_type": "code",
   "execution_count": 1,
   "metadata": {},
   "outputs": [],
   "source": [
    "import os\n",
    "import shutil\n",
    "\n",
    "# Configuration\n",
    "source_dir = '/workspace/midi2wav/paired_midi/train'  # Your main directory\n",
    "destination_root = '/workspace/midi2wav/paired_midi/splits'  # Root name for new parts\n",
    "folders_per_part = 1000  # Number of folders per part\n"
   ]
  },
  {
   "cell_type": "code",
   "execution_count": 2,
   "metadata": {},
   "outputs": [],
   "source": [
    "# Ensure the source directory exists\n",
    "if not os.path.exists(source_dir):\n",
    "    print(f\"Source directory {source_dir} does not exist.\")\n",
    "    exit(1)"
   ]
  },
  {
   "cell_type": "code",
   "execution_count": 3,
   "metadata": {},
   "outputs": [],
   "source": [
    "# Get list of all subfolders in the source directory\n",
    "subfolders = [f for f in os.listdir(source_dir) if os.path.isdir(os.path.join(source_dir, f))]"
   ]
  },
  {
   "cell_type": "code",
   "execution_count": 4,
   "metadata": {},
   "outputs": [
    {
     "name": "stdout",
     "output_type": "stream",
     "text": [
      "Copied folders 0 to 999 to /workspace/midi2wav/paired_midi/splits/part_1\n",
      "Copied folders 1000 to 1999 to /workspace/midi2wav/paired_midi/splits/part_2\n",
      "Copied folders 2000 to 2999 to /workspace/midi2wav/paired_midi/splits/part_3\n",
      "Copied folders 3000 to 3999 to /workspace/midi2wav/paired_midi/splits/part_4\n",
      "Copied folders 4000 to 4999 to /workspace/midi2wav/paired_midi/splits/part_5\n",
      "Copied folders 5000 to 5999 to /workspace/midi2wav/paired_midi/splits/part_6\n",
      "Copied folders 6000 to 6999 to /workspace/midi2wav/paired_midi/splits/part_7\n",
      "Copied folders 7000 to 7999 to /workspace/midi2wav/paired_midi/splits/part_8\n",
      "Copied folders 8000 to 8999 to /workspace/midi2wav/paired_midi/splits/part_9\n",
      "Copied folders 9000 to 9999 to /workspace/midi2wav/paired_midi/splits/part_10\n",
      "Copied folders 10000 to 10999 to /workspace/midi2wav/paired_midi/splits/part_11\n",
      "Copied folders 11000 to 11999 to /workspace/midi2wav/paired_midi/splits/part_12\n",
      "Copied folders 12000 to 12999 to /workspace/midi2wav/paired_midi/splits/part_13\n",
      "Copied folders 13000 to 13999 to /workspace/midi2wav/paired_midi/splits/part_14\n",
      "Copied folders 14000 to 14999 to /workspace/midi2wav/paired_midi/splits/part_15\n",
      "Copied folders 15000 to 15999 to /workspace/midi2wav/paired_midi/splits/part_16\n",
      "Copied folders 16000 to 16999 to /workspace/midi2wav/paired_midi/splits/part_17\n",
      "Copied folders 17000 to 17999 to /workspace/midi2wav/paired_midi/splits/part_18\n",
      "Copied folders 18000 to 18999 to /workspace/midi2wav/paired_midi/splits/part_19\n",
      "Copied folders 19000 to 19999 to /workspace/midi2wav/paired_midi/splits/part_20\n",
      "Copied folders 20000 to 20999 to /workspace/midi2wav/paired_midi/splits/part_21\n",
      "Copied folders 21000 to 21999 to /workspace/midi2wav/paired_midi/splits/part_22\n",
      "Copied folders 22000 to 22999 to /workspace/midi2wav/paired_midi/splits/part_23\n",
      "Copied folders 23000 to 23999 to /workspace/midi2wav/paired_midi/splits/part_24\n",
      "Copied folders 24000 to 24999 to /workspace/midi2wav/paired_midi/splits/part_25\n",
      "Copied folders 25000 to 25999 to /workspace/midi2wav/paired_midi/splits/part_26\n",
      "Copied folders 26000 to 26999 to /workspace/midi2wav/paired_midi/splits/part_27\n",
      "Copied folders 27000 to 27999 to /workspace/midi2wav/paired_midi/splits/part_28\n",
      "Copied folders 28000 to 28999 to /workspace/midi2wav/paired_midi/splits/part_29\n",
      "Copied folders 29000 to 29999 to /workspace/midi2wav/paired_midi/splits/part_30\n",
      "Copied folders 30000 to 30999 to /workspace/midi2wav/paired_midi/splits/part_31\n",
      "Copied folders 31000 to 31999 to /workspace/midi2wav/paired_midi/splits/part_32\n",
      "Copied folders 32000 to 32999 to /workspace/midi2wav/paired_midi/splits/part_33\n",
      "Copied folders 33000 to 33999 to /workspace/midi2wav/paired_midi/splits/part_34\n",
      "Copied folders 34000 to 34999 to /workspace/midi2wav/paired_midi/splits/part_35\n",
      "Copied folders 35000 to 35999 to /workspace/midi2wav/paired_midi/splits/part_36\n",
      "Copied folders 36000 to 36999 to /workspace/midi2wav/paired_midi/splits/part_37\n",
      "Copied folders 37000 to 37999 to /workspace/midi2wav/paired_midi/splits/part_38\n",
      "Copied folders 38000 to 38999 to /workspace/midi2wav/paired_midi/splits/part_39\n",
      "Copied folders 39000 to 39999 to /workspace/midi2wav/paired_midi/splits/part_40\n",
      "Copied folders 40000 to 40999 to /workspace/midi2wav/paired_midi/splits/part_41\n",
      "Copied folders 41000 to 41999 to /workspace/midi2wav/paired_midi/splits/part_42\n",
      "Copied folders 42000 to 42999 to /workspace/midi2wav/paired_midi/splits/part_43\n",
      "Copied folders 43000 to 43999 to /workspace/midi2wav/paired_midi/splits/part_44\n",
      "Copied folders 44000 to 44999 to /workspace/midi2wav/paired_midi/splits/part_45\n",
      "Copied folders 45000 to 45999 to /workspace/midi2wav/paired_midi/splits/part_46\n",
      "Copied folders 46000 to 46999 to /workspace/midi2wav/paired_midi/splits/part_47\n",
      "Copied folders 47000 to 47999 to /workspace/midi2wav/paired_midi/splits/part_48\n",
      "Copied folders 48000 to 48999 to /workspace/midi2wav/paired_midi/splits/part_49\n",
      "Copied folders 49000 to 49999 to /workspace/midi2wav/paired_midi/splits/part_50\n",
      "Copied folders 50000 to 50999 to /workspace/midi2wav/paired_midi/splits/part_51\n",
      "Copied folders 51000 to 51999 to /workspace/midi2wav/paired_midi/splits/part_52\n",
      "Copied folders 52000 to 52999 to /workspace/midi2wav/paired_midi/splits/part_53\n",
      "Copied folders 53000 to 53999 to /workspace/midi2wav/paired_midi/splits/part_54\n",
      "Copied folders 54000 to 54999 to /workspace/midi2wav/paired_midi/splits/part_55\n",
      "Copied folders 55000 to 55999 to /workspace/midi2wav/paired_midi/splits/part_56\n",
      "Copied folders 56000 to 56999 to /workspace/midi2wav/paired_midi/splits/part_57\n",
      "Copied folders 57000 to 57999 to /workspace/midi2wav/paired_midi/splits/part_58\n",
      "Copied folders 58000 to 58999 to /workspace/midi2wav/paired_midi/splits/part_59\n",
      "Copied folders 59000 to 59999 to /workspace/midi2wav/paired_midi/splits/part_60\n",
      "Copied folders 60000 to 60999 to /workspace/midi2wav/paired_midi/splits/part_61\n",
      "Copied folders 61000 to 61999 to /workspace/midi2wav/paired_midi/splits/part_62\n",
      "Copied folders 62000 to 62999 to /workspace/midi2wav/paired_midi/splits/part_63\n",
      "Splitting completed.\n"
     ]
    }
   ],
   "source": [
    "# Split the subfolders into parts\n",
    "for i in range(0, len(subfolders), folders_per_part):\n",
    "    part_num = i // folders_per_part + 1\n",
    "    part_dir = f\"{destination_root}/part_{part_num}\"\n",
    "    \n",
    "    # Create the part directory if it doesn't exist\n",
    "    os.makedirs(part_dir, exist_ok=True)\n",
    "    \n",
    "    # Move the subfolders to the new part directory\n",
    "    for subfolder in subfolders[i:i + folders_per_part]:\n",
    "        source_path = os.path.join(source_dir, subfolder)\n",
    "        destination_path = os.path.join(part_dir, subfolder)\n",
    "        shutil.copytree(source_path, destination_path)\n",
    "\n",
    "    print(f\"Copied folders {i} to {i + folders_per_part - 1} to {part_dir}\")\n",
    "\n",
    "print(\"Splitting completed.\")"
   ]
  },
  {
   "cell_type": "code",
   "execution_count": null,
   "metadata": {},
   "outputs": [],
   "source": []
  }
 ],
 "metadata": {
  "kernelspec": {
   "display_name": "ddsp",
   "language": "python",
   "name": "python3"
  },
  "language_info": {
   "codemirror_mode": {
    "name": "ipython",
    "version": 3
   },
   "file_extension": ".py",
   "mimetype": "text/x-python",
   "name": "python",
   "nbconvert_exporter": "python",
   "pygments_lexer": "ipython3",
   "version": "3.8.19"
  }
 },
 "nbformat": 4,
 "nbformat_minor": 2
}
