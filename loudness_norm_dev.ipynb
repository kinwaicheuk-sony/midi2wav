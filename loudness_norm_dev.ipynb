{
 "cells": [
  {
   "cell_type": "code",
   "execution_count": 15,
   "metadata": {},
   "outputs": [],
   "source": [
    "import soundfile\n",
    "import tqdm\n",
    "import pyloudnorm as pyln\n",
    "import glob\n",
    "import os"
   ]
  },
  {
   "cell_type": "code",
   "execution_count": 34,
   "metadata": {},
   "outputs": [
    {
     "name": "stderr",
     "output_type": "stream",
     "text": [
      "100%|██████████| 875/875 [00:09<00:00, 95.12it/s]\n"
     ]
    }
   ],
   "source": [
    "input_folder = '/workspace/midi2wav/audio_output/part_5'\n",
    "output_folder = os.path.join(os.path.dirname(\n",
    "    input_folder.rstrip('/')),\n",
    "    os.path.basename(input_folder.rstrip('/')) + '_norm') + '/'\n",
    "\n",
    "for file in tqdm.tqdm(glob.glob(os.path.join(input_folder, '*', '*.wav'))):\n",
    "    # output_path based on the file path with the same folder structure\n",
    "    relative_path = os.path.relpath(file, input_folder)\n",
    "    output_path = os.path.join(output_folder, relative_path)\n",
    "    \n",
    "    # read and normalize audio\n",
    "    data, rate = soundfile.read(file)\n",
    "\n",
    "    # loudness normalization might cause clipping\n",
    "    # meter = pyln.Meter(rate) # create BS.1770 meter\n",
    "    # loudness = meter.integrated_loudness(data)\n",
    "    # data = pyln.normalize.loudness(data, loudness, -17.0)\n",
    "\n",
    "    # peak normalization\n",
    "    data = pyln.normalize.peak(data, -1.0)\n",
    "\n",
    "    # create folder if not exists\n",
    "    os.makedirs(os.path.dirname(output_path), exist_ok=True)\n",
    "    # output audio\n",
    "    soundfile.write(output_path, data, rate)"
   ]
  },
  {
   "cell_type": "code",
   "execution_count": null,
   "metadata": {},
   "outputs": [],
   "source": []
  }
 ],
 "metadata": {
  "kernelspec": {
   "display_name": "ddsp",
   "language": "python",
   "name": "python3"
  },
  "language_info": {
   "codemirror_mode": {
    "name": "ipython",
    "version": 3
   },
   "file_extension": ".py",
   "mimetype": "text/x-python",
   "name": "python",
   "nbconvert_exporter": "python",
   "pygments_lexer": "ipython3",
   "version": "3.8.19"
  }
 },
 "nbformat": 4,
 "nbformat_minor": 2
}
